{
  "nbformat": 4,
  "nbformat_minor": 0,
  "metadata": {
    "colab": {
      "provenance": [],
      "authorship_tag": "ABX9TyOJ+rdkrVaQmGY7K8bsonqL",
      "include_colab_link": true
    },
    "kernelspec": {
      "name": "python3",
      "display_name": "Python 3"
    },
    "language_info": {
      "name": "python"
    }
  },
  "cells": [
    {
      "cell_type": "markdown",
      "metadata": {
        "id": "view-in-github",
        "colab_type": "text"
      },
      "source": [
        "<a href=\"https://colab.research.google.com/github/pheonix-01/DL-Practical-Labs/blob/main/P01L03_Bayes%E2%80%99_Theorem_Practical_Case_%E2%80%93_Spam_Detection.ipynb\" target=\"_parent\"><img src=\"https://colab.research.google.com/assets/colab-badge.svg\" alt=\"Open In Colab\"/></a>"
      ]
    },
    {
      "cell_type": "code",
      "execution_count": 1,
      "metadata": {
        "colab": {
          "base_uri": "https://localhost:8080/"
        },
        "id": "Qv2CjebuqUzm",
        "outputId": "d06af7b3-6a04-4798-f002-f6dc5980facd"
      },
      "outputs": [
        {
          "output_type": "stream",
          "name": "stdout",
          "text": [
            "Probability email is spam given 'discount': 0.80\n"
          ]
        }
      ],
      "source": [
        "# Bayes’ Theorem Practical Case – Spam Detection\n",
        "P_spam = 0.5\n",
        "P_ham = 0.5\n",
        "P_word_given_spam = 0.4\n",
        "P_word_given_ham = 0.1\n",
        "\n",
        "# Marginal Probability\n",
        "P_word = P_word_given_spam * P_spam + P_word_given_ham * P_ham\n",
        "\n",
        "# Bayes' Theorem\n",
        "P_spam_given_word = (P_word_given_spam * P_spam) / P_word\n",
        "\n",
        "print(f\"Probability email is spam given 'discount': {P_spam_given_word:.2f}\")\n"
      ]
    },
    {
      "cell_type": "code",
      "source": [],
      "metadata": {
        "id": "ITl3VS8nqgXa"
      },
      "execution_count": null,
      "outputs": []
    }
  ]
}