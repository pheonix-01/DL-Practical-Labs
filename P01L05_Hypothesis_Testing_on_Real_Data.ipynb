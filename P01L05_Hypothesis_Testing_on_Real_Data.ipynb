{
  "nbformat": 4,
  "nbformat_minor": 0,
  "metadata": {
    "colab": {
      "provenance": [],
      "authorship_tag": "ABX9TyPotp194CoTbv64f0nh3Iwd",
      "include_colab_link": true
    },
    "kernelspec": {
      "name": "python3",
      "display_name": "Python 3"
    },
    "language_info": {
      "name": "python"
    }
  },
  "cells": [
    {
      "cell_type": "markdown",
      "metadata": {
        "id": "view-in-github",
        "colab_type": "text"
      },
      "source": [
        "<a href=\"https://colab.research.google.com/github/pheonix-01/DL-Practical-Labs/blob/main/P01L05_Hypothesis_Testing_on_Real_Data.ipynb\" target=\"_parent\"><img src=\"https://colab.research.google.com/assets/colab-badge.svg\" alt=\"Open In Colab\"/></a>"
      ]
    },
    {
      "cell_type": "code",
      "execution_count": 1,
      "metadata": {
        "colab": {
          "base_uri": "https://localhost:8080/"
        },
        "id": "_jm4EVX8srVz",
        "outputId": "4426ba13-5019-495c-a7ca-c6f4769bc54f"
      },
      "outputs": [
        {
          "output_type": "stream",
          "name": "stdout",
          "text": [
            "T-statistic: -39.4687\n",
            "P-value: 5.7175e-62\n",
            "✅ Conclusion: Significant difference in petal lengths between species.\n"
          ]
        }
      ],
      "source": [
        "# Hypothesis Testing on Real Data\n",
        "import pandas as pd\n",
        "from scipy.stats import ttest_ind\n",
        "\n",
        "# Load the Iris dataset\n",
        "df = pd.read_csv('IRIS.csv')\n",
        "\n",
        "# Extract petal lengths of two species: Iris-setosa and Iris-versicolor\n",
        "petal_setosa = df[df['species'] == 'Iris-setosa']['petal_length']\n",
        "petal_versicolor = df[df['species'] == 'Iris-versicolor']['petal_length']\n",
        "\n",
        "# Perform independent t-test\n",
        "t_stat, p_value = ttest_ind(petal_setosa, petal_versicolor)\n",
        "\n",
        "# Display results\n",
        "print(\"T-statistic:\", round(t_stat, 4))\n",
        "print(\"P-value:\", format(p_value, '.4e'))\n",
        "\n",
        "# Interpretation\n",
        "alpha = 0.05\n",
        "if p_value < alpha:\n",
        "    print(\"✅ Conclusion: Significant difference in petal lengths between species.\")\n",
        "else:\n",
        "    print(\"❌ Conclusion: No significant difference in petal lengths.\")\n"
      ]
    },
    {
      "cell_type": "code",
      "source": [],
      "metadata": {
        "id": "pIR7g5Vbs-ew"
      },
      "execution_count": null,
      "outputs": []
    }
  ]
}