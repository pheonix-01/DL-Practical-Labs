{
  "nbformat": 4,
  "nbformat_minor": 0,
  "metadata": {
    "colab": {
      "provenance": [],
      "authorship_tag": "ABX9TyO7ODyifeF553J3TbqxgK13",
      "include_colab_link": true
    },
    "kernelspec": {
      "name": "python3",
      "display_name": "Python 3"
    },
    "language_info": {
      "name": "python"
    }
  },
  "cells": [
    {
      "cell_type": "markdown",
      "metadata": {
        "id": "view-in-github",
        "colab_type": "text"
      },
      "source": [
        "<a href=\"https://colab.research.google.com/github/pheonix-01/DL-Practical-Labs/blob/main/Practical1/P01L06_Confidence_Interval_Estimation.ipynb\" target=\"_parent\"><img src=\"https://colab.research.google.com/assets/colab-badge.svg\" alt=\"Open In Colab\"/></a>"
      ]
    },
    {
      "cell_type": "code",
      "execution_count": 1,
      "metadata": {
        "colab": {
          "base_uri": "https://localhost:8080/"
        },
        "id": "ClhnLoI7tc8h",
        "outputId": "b248263a-5b92-46e6-b2e2-9767bdca4cfd"
      },
      "outputs": [
        {
          "output_type": "stream",
          "name": "stdout",
          "text": [
            "Sample Mean: 74.1\n",
            "Standard Error: 2.45\n",
            "95% Confidence Interval: (np.float64(69.09), np.float64(79.11))\n"
          ]
        }
      ],
      "source": [
        "# Confidence Interval Estimation\n",
        "import numpy as np\n",
        "from scipy.stats import sem, t\n",
        "\n",
        "# Simulate a random sample of student scores\n",
        "np.random.seed(42)  # for reproducibility\n",
        "scores = np.random.randint(50, 100, size=30)  # 30 student scores between 50 and 100\n",
        "\n",
        "# Calculate sample mean and standard error\n",
        "mean = np.mean(scores)\n",
        "se = sem(scores)  # Standard error of the mean\n",
        "\n",
        "# Confidence interval at 95%\n",
        "confidence = 0.95\n",
        "df = len(scores) - 1  # degrees of freedom\n",
        "\n",
        "ci = t.interval(confidence, df, loc=mean, scale=se)\n",
        "\n",
        "# Output\n",
        "print(\"Sample Mean:\", round(mean, 2))\n",
        "print(\"Standard Error:\", round(se, 2))\n",
        "print(\"95% Confidence Interval:\", (round(ci[0], 2), round(ci[1], 2)))\n"
      ]
    },
    {
      "cell_type": "code",
      "source": [],
      "metadata": {
        "id": "NgRDtzHRyGxl"
      },
      "execution_count": null,
      "outputs": []
    }
  ]
}