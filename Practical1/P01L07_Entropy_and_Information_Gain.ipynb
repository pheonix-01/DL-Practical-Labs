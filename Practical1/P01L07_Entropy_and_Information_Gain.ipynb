{
  "nbformat": 4,
  "nbformat_minor": 0,
  "metadata": {
    "colab": {
      "provenance": [],
      "authorship_tag": "ABX9TyPcbWWBsorR1J8y/xU6RPhG",
      "include_colab_link": true
    },
    "kernelspec": {
      "name": "python3",
      "display_name": "Python 3"
    },
    "language_info": {
      "name": "python"
    }
  },
  "cells": [
    {
      "cell_type": "markdown",
      "metadata": {
        "id": "view-in-github",
        "colab_type": "text"
      },
      "source": [
        "<a href=\"https://colab.research.google.com/github/pheonix-01/DL-Practical-Labs/blob/main/Practical1/P01L07_Entropy_and_Information_Gain.ipynb\" target=\"_parent\"><img src=\"https://colab.research.google.com/assets/colab-badge.svg\" alt=\"Open In Colab\"/></a>"
      ]
    },
    {
      "cell_type": "code",
      "execution_count": 2,
      "metadata": {
        "colab": {
          "base_uri": "https://localhost:8080/"
        },
        "id": "sz3JlM1Lyks_",
        "outputId": "d385629b-1263-4110-b303-81fabf67995b"
      },
      "outputs": [
        {
          "output_type": "stream",
          "name": "stdout",
          "text": [
            "Total Entropy:  0.9403\n",
            "Entropy after split:  0.6935\n",
            "Information Gain (Outlook):  0.2467\n"
          ]
        }
      ],
      "source": [
        "# Entropy and Information Gain\n",
        "import math\n",
        "\n",
        "def entropy(p):\n",
        "    return -p * math.log2(p) if p > 0 else 0\n",
        "\n",
        "# Total\n",
        "p_yes = 9 / 14\n",
        "p_no = 5 / 14\n",
        "entropy_total = entropy(p_yes) + entropy(p_no)\n",
        "entropy_total\n",
        "\n",
        "def entropy(p):\n",
        "    return -p * math.log2(p) if p > 0 else 0\n",
        "\n",
        "# Total entropy of dataset\n",
        "p_yes = 9 / 14\n",
        "p_no = 5 / 14\n",
        "entropy_total = entropy(p_yes) + entropy(p_no)\n",
        "\n",
        "# Entropy for Sunny (5 samples: 2 yes, 3 no)\n",
        "e_sunny = entropy(2/5) + entropy(3/5)\n",
        "\n",
        "# Entropy for Overcast (4 samples: 4 yes, 0 no)\n",
        "e_overcast = entropy(4/4) + entropy(0/4)\n",
        "\n",
        "# Entropy for Rain (5 samples: 3 yes, 2 no)\n",
        "e_rain = entropy(3/5) + entropy(2/5)\n",
        "\n",
        "# Weighted average entropy after split on \"Outlook\"\n",
        "weighted_entropy = (5/14)*e_sunny + (4/14)*e_overcast + (5/14)*e_rain\n",
        "\n",
        "# Information Gain\n",
        "info_gain = entropy_total - weighted_entropy\n",
        "\n",
        "print(\"Total Entropy: \", round(entropy_total, 4))\n",
        "print(\"Entropy after split: \", round(weighted_entropy, 4))\n",
        "print(\"Information Gain (Outlook): \", round(info_gain, 4))\n"
      ]
    },
    {
      "cell_type": "code",
      "source": [],
      "metadata": {
        "id": "mkaFuGoXyp7v"
      },
      "execution_count": null,
      "outputs": []
    }
  ]
}