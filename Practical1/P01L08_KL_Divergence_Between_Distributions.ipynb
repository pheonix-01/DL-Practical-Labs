{
  "nbformat": 4,
  "nbformat_minor": 0,
  "metadata": {
    "colab": {
      "provenance": [],
      "authorship_tag": "ABX9TyMDOQpxkivGDvxOV58R9ODA",
      "include_colab_link": true
    },
    "kernelspec": {
      "name": "python3",
      "display_name": "Python 3"
    },
    "language_info": {
      "name": "python"
    }
  },
  "cells": [
    {
      "cell_type": "markdown",
      "metadata": {
        "id": "view-in-github",
        "colab_type": "text"
      },
      "source": [
        "<a href=\"https://colab.research.google.com/github/pheonix-01/DL-Practical-Labs/blob/main/Practical1/P01L08_KL_Divergence_Between_Distributions.ipynb\" target=\"_parent\"><img src=\"https://colab.research.google.com/assets/colab-badge.svg\" alt=\"Open In Colab\"/></a>"
      ]
    },
    {
      "cell_type": "code",
      "execution_count": 1,
      "metadata": {
        "colab": {
          "base_uri": "https://localhost:8080/"
        },
        "id": "GUNPYVmgzFfT",
        "outputId": "a93c083e-0896-4ad3-f056-803926fe6cfb"
      },
      "outputs": [
        {
          "output_type": "stream",
          "name": "stdout",
          "text": [
            "P: [0.4 0.3 0.2 0.1]\n",
            "Q: [0.3 0.3 0.2 0.2]\n",
            "KL Divergence D_KL(P || Q): 0.066\n"
          ]
        }
      ],
      "source": [
        "# KL Divergence Between Distributions\n",
        "import numpy as np\n",
        "from scipy.stats import entropy\n",
        "\n",
        "# Create two discrete probability distributions\n",
        "P = np.array([0.4, 0.3, 0.2, 0.1])  # Sum = 1\n",
        "Q = np.array([0.3, 0.3, 0.2, 0.2])  # Sum = 1\n",
        "\n",
        "# Compute KL Divergence (base 2 = bits)\n",
        "kl_divergence = entropy(P, Q, base=2)\n",
        "\n",
        "# Output result\n",
        "print(\"P:\", P)\n",
        "print(\"Q:\", Q)\n",
        "print(\"KL Divergence D_KL(P || Q):\", round(kl_divergence, 4))\n"
      ]
    },
    {
      "cell_type": "code",
      "source": [],
      "metadata": {
        "id": "IVKNSV4KzOUu"
      },
      "execution_count": null,
      "outputs": []
    }
  ]
}