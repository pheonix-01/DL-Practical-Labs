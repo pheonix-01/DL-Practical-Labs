{
  "nbformat": 4,
  "nbformat_minor": 0,
  "metadata": {
    "colab": {
      "provenance": [],
      "authorship_tag": "ABX9TyNl0Gp9P2NhG6wPoYUbEJAJ",
      "include_colab_link": true
    },
    "kernelspec": {
      "name": "python3",
      "display_name": "Python 3"
    },
    "language_info": {
      "name": "python"
    }
  },
  "cells": [
    {
      "cell_type": "markdown",
      "metadata": {
        "id": "view-in-github",
        "colab_type": "text"
      },
      "source": [
        "<a href=\"https://colab.research.google.com/github/pheonix-01/DL-Practical-Labs/blob/main/Practical1/P01L10_Dropout_Simulation_as_a_Bernoulli_Process.ipynb\" target=\"_parent\"><img src=\"https://colab.research.google.com/assets/colab-badge.svg\" alt=\"Open In Colab\"/></a>"
      ]
    },
    {
      "cell_type": "code",
      "execution_count": 1,
      "metadata": {
        "colab": {
          "base_uri": "https://localhost:8080/"
        },
        "id": "pjewAsKiz-vN",
        "outputId": "66eb11e6-fa3f-4473-f23a-1734d66624ef"
      },
      "outputs": [
        {
          "output_type": "stream",
          "name": "stdout",
          "text": [
            "Original Activations:      [0.5 0.8 0.2 0.9 0.3 0.7 0.6]\n",
            "Dropout Mask (Bernoulli): [1 1 0 1 0 1 1]\n",
            "After Dropout:             [0.5 0.8 0.  0.9 0.  0.7 0.6]\n",
            "Scaled Activations:        [0.71428571 1.14285714 0.         1.28571429 0.         1.\n",
            " 0.85714286]\n"
          ]
        }
      ],
      "source": [
        "# Dropout Simulation as a Bernoulli Process\n",
        "import numpy as np\n",
        "\n",
        "# Simulated activation vector (e.g., from a neural network layer)\n",
        "activations = np.array([0.5, 0.8, 0.2, 0.9, 0.3, 0.7, 0.6])\n",
        "\n",
        "# Dropout probability (e.g., 30% of neurons are dropped)\n",
        "dropout_rate = 0.3\n",
        "keep_prob = 1 - dropout_rate\n",
        "\n",
        "# Generate Bernoulli mask (1 = keep, 0 = drop)\n",
        "mask = np.random.binomial(1, keep_prob, size=activations.shape)\n",
        "\n",
        "# Apply mask (element-wise)\n",
        "dropped_activations = activations * mask\n",
        "\n",
        "# Optionally scale up (inverted dropout, used during training)\n",
        "scaled_activations = dropped_activations / keep_prob\n",
        "\n",
        "# Output\n",
        "print(\"Original Activations:     \", activations)\n",
        "print(\"Dropout Mask (Bernoulli):\", mask)\n",
        "print(\"After Dropout:            \", dropped_activations)\n",
        "print(\"Scaled Activations:       \", scaled_activations)\n"
      ]
    }
  ]
}